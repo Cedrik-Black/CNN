{
  "nbformat": 4,
  "nbformat_minor": 0,
  "metadata": {
    "colab": {
      "name": "Untitled30.ipynb",
      "version": "0.3.2",
      "provenance": [],
      "include_colab_link": true
    },
    "kernelspec": {
      "name": "python3",
      "display_name": "Python 3"
    },
    "accelerator": "GPU"
  },
  "cells": [
    {
      "cell_type": "markdown",
      "metadata": {
        "id": "view-in-github",
        "colab_type": "text"
      },
      "source": [
        "<a href=\"https://colab.research.google.com/github/krakowiakpawel9/convnet-course/blob/master/basics/03_metrics_loss_function.ipynb\" target=\"_parent\"><img src=\"https://colab.research.google.com/assets/colab-badge.svg\" alt=\"Open In Colab\"/></a>"
      ]
    },
    {
      "cell_type": "markdown",
      "metadata": {
        "id": "K2CvHiNT-XHT",
        "colab_type": "text"
      },
      "source": [
        "## Accuracy - Dokładność klasyfikacji\n",
        "\n",
        "##   $Accuracy = \\frac{correct\\ predictions}{total\\ predictions} * 100$"
      ]
    },
    {
      "cell_type": "code",
      "metadata": {
        "id": "eA_absaM-YgK",
        "colab_type": "code",
        "colab": {}
      },
      "source": [
        "import numpy as np\n",
        "\n",
        "\n",
        "def accuracy(y_true, y_pred):\n",
        "    correct = 0\n",
        "    for i in range(len(y_true)):\n",
        "        if y_true[i] == y_pred[i]:\n",
        "            correct += 1\n",
        "    return correct / len(y_true) * 100"
      ],
      "execution_count": 0,
      "outputs": []
    },
    {
      "cell_type": "code",
      "metadata": {
        "id": "H6yovSxOACLX",
        "colab_type": "code",
        "colab": {
          "base_uri": "https://localhost:8080/",
          "height": 34
        },
        "outputId": "a6bc1631-a42c-4ac6-9ae3-4986e5c428b5"
      },
      "source": [
        "y_true = np.array([1, 0, 1, 1, 0, 1])\n",
        "y_pred = np.array([0, 0, 1, 1, 0, 1])\n",
        "\n",
        "print(accuracy(y_true, y_pred))"
      ],
      "execution_count": 2,
      "outputs": [
        {
          "output_type": "stream",
          "text": [
            "83.33333333333334\n"
          ],
          "name": "stdout"
        }
      ]
    },
    {
      "cell_type": "markdown",
      "metadata": {
        "id": "x-0gtgY3O7_M",
        "colab_type": "text"
      },
      "source": [
        "## Entropia rozkładu prawdopodobieństwa\n",
        "\n",
        "##  $Entropy = - \\sum_{i}p_{i} * log(p_{i})$\n",
        "\n",
        "Gdzie $p_{i}$ to prawdopodobieństwo zajścia $i$-tego zdarzenia. Entropia charakteryzuje mozliwośc oddawania informacji przez żródło.  Inaczej jest to miara nieokresloności/niepewności. Średnie zdziwienie (wartość oczekiwana zdziwienia)"
      ]
    },
    {
      "cell_type": "code",
      "metadata": {
        "id": "jzEcZXh2O9ry",
        "colab_type": "code",
        "colab": {
          "base_uri": "https://localhost:8080/",
          "height": 34
        },
        "outputId": "35685a17-2e86-4f61-c581-e008b2be4903"
      },
      "source": [
        "def entropy(labels, base=None):\n",
        "    from math import log, e\n",
        "    n_labels = len(labels)\n",
        "    \n",
        "    if n_labels <= 1:\n",
        "        return 0\n",
        "    \n",
        "    value, counts = np.unique(labels, return_counts=True)\n",
        "    probs = counts / n_labels\n",
        "    n_classes = np.count_nonzero(probs)\n",
        "    \n",
        "    if n_classes <= 1:\n",
        "        return 0\n",
        "    \n",
        "    ent = 0.\n",
        "    \n",
        "    base = e if base is None else base\n",
        "    for i in probs:\n",
        "        ent -= i * log(i, base)\n",
        "    return ent\n",
        "\n",
        "\n",
        "labels = [1,3,5,2,3,5,3,2,1,3,4,5]\n",
        "entropy(labels)"
      ],
      "execution_count": 3,
      "outputs": [
        {
          "output_type": "execute_result",
          "data": {
            "text/plain": [
              "1.5171063970610277"
            ]
          },
          "metadata": {
            "tags": []
          },
          "execution_count": 3
        }
      ]
    },
    {
      "cell_type": "markdown",
      "metadata": {
        "id": "20UyE7EQgk1k",
        "colab_type": "text"
      },
      "source": [
        "\n",
        "\n",
        "---\n",
        "\n",
        "\n",
        "## Loss Functions - Funkcje Straty\n"
      ]
    },
    {
      "cell_type": "markdown",
      "metadata": {
        "id": "SiVVrvBtD1H5",
        "colab_type": "text"
      },
      "source": [
        "## Binary Crossentropy - Binarna Entropia Krzyzowa\n",
        "\n",
        "##  $Binary\\ CrossEntropy = -y_{true}*log(y_{pred}) - (1-y_{true}) * log(1-y_{pred})$"
      ]
    },
    {
      "cell_type": "code",
      "metadata": {
        "id": "aEq8r34KAQ2D",
        "colab_type": "code",
        "colab": {}
      },
      "source": [
        "def binary_crossentropy(y_true, y_pred):\n",
        "    y_pred = np.clip(y_pred, 0.0000001, 1-0.0000001)\n",
        "    return -y_true * np.log(y_pred) - (1-y_true) * np.log(1-y_pred)"
      ],
      "execution_count": 0,
      "outputs": []
    },
    {
      "cell_type": "code",
      "metadata": {
        "id": "Q01LIBN4DVIt",
        "colab_type": "code",
        "colab": {
          "base_uri": "https://localhost:8080/",
          "height": 51
        },
        "outputId": "e8b609db-26b1-4390-a7f8-648a35dd3f58"
      },
      "source": [
        "y_true = np.array([1, 0, 1, 1, 0, 1, 0])\n",
        "y_pred = np.array([0, 0, 1, 1, 0, 1, 1])\n",
        "\n",
        "binary_crossentropy(y_true, y_pred)"
      ],
      "execution_count": 5,
      "outputs": [
        {
          "output_type": "execute_result",
          "data": {
            "text/plain": [
              "array([1.61180957e+01, 1.00000005e-07, 1.00000005e-07, 1.00000005e-07,\n",
              "       1.00000005e-07, 1.00000005e-07, 1.61180957e+01])"
            ]
          },
          "metadata": {
            "tags": []
          },
          "execution_count": 5
        }
      ]
    },
    {
      "cell_type": "markdown",
      "metadata": {
        "id": "emtUGuueFTa8",
        "colab_type": "text"
      },
      "source": [
        "## Categorical Crossentropy - Kategoryczna Entropia Krzyzowa\n",
        "\n",
        "##  $Categorical\\ CrossEntropy= - \\sum_{i}y_{true} * log(y_{pred}) $"
      ]
    },
    {
      "cell_type": "code",
      "metadata": {
        "id": "RILCmFWGFdnn",
        "colab_type": "code",
        "colab": {}
      },
      "source": [
        "def categorical_crossentropy(y_true, y_pred):\n",
        "    y_pred = np.clip(y_pred, 0.0000001, 1-0.0000001)\n",
        "    return -np.sum(y_true * np.log(y_pred), axis=-1)"
      ],
      "execution_count": 0,
      "outputs": []
    },
    {
      "cell_type": "code",
      "metadata": {
        "id": "Khs0FAjIFtOA",
        "colab_type": "code",
        "colab": {
          "base_uri": "https://localhost:8080/",
          "height": 34
        },
        "outputId": "a0846c24-d17e-475d-ad37-9500a81b9af5"
      },
      "source": [
        "y_true = np.array([1, 0, 0, 0, 0])\n",
        "y_pred = np.array([0.4, 0.3, 0.05, 0.05, 0.2])\n",
        "\n",
        "categorical_crossentropy(y_true, y_pred)"
      ],
      "execution_count": 7,
      "outputs": [
        {
          "output_type": "execute_result",
          "data": {
            "text/plain": [
              "0.916290731874155"
            ]
          },
          "metadata": {
            "tags": []
          },
          "execution_count": 7
        }
      ]
    },
    {
      "cell_type": "code",
      "metadata": {
        "id": "ILKQhbYLF82J",
        "colab_type": "code",
        "colab": {
          "base_uri": "https://localhost:8080/",
          "height": 34
        },
        "outputId": "ce280c80-63a2-44d7-d96f-c85c1374a241"
      },
      "source": [
        "y_true = np.array([1, 0, 0, 0, 0])\n",
        "y_pred = np.array([0.98, 0.01, 0.0, 0.0, 0.01])\n",
        "\n",
        "categorical_crossentropy(y_true, y_pred)"
      ],
      "execution_count": 8,
      "outputs": [
        {
          "output_type": "execute_result",
          "data": {
            "text/plain": [
              "0.020202707317519466"
            ]
          },
          "metadata": {
            "tags": []
          },
          "execution_count": 8
        }
      ]
    },
    {
      "cell_type": "code",
      "metadata": {
        "id": "ipjJ9aHpfdu7",
        "colab_type": "code",
        "colab": {
          "base_uri": "https://localhost:8080/",
          "height": 34
        },
        "outputId": "cb2d94e0-0e61-49e0-d26a-c4fa81af122a"
      },
      "source": [
        "y_true = np.array([[1, 0, 0, 0, 0],\n",
        "                  [0, 0, 0, 1, 0],\n",
        "                  [1, 0, 0, 0, 0]])\n",
        "y_pred = np.array([[0.4, 0.3, 0.05, 0.05, 0.2],\n",
        "                  [0.05, 0.2, 0.0, 0.7, 0.05],\n",
        "                  [0.98, 0.01, 0.0, 0.0, 0.01]])\n",
        "\n",
        "categorical_crossentropy(y_true, y_pred)"
      ],
      "execution_count": 9,
      "outputs": [
        {
          "output_type": "execute_result",
          "data": {
            "text/plain": [
              "array([0.91629073, 0.35667494, 0.02020271])"
            ]
          },
          "metadata": {
            "tags": []
          },
          "execution_count": 9
        }
      ]
    }
  ]
}
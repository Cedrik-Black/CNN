{
  "nbformat": 4,
  "nbformat_minor": 0,
  "metadata": {
    "colab": {
      "name": "Untitled30.ipynb",
      "version": "0.3.2",
      "provenance": [],
      "include_colab_link": true
    },
    "kernelspec": {
      "name": "python3",
      "display_name": "Python 3"
    },
    "accelerator": "GPU"
  },
  "cells": [
    {
      "cell_type": "markdown",
      "metadata": {
        "id": "view-in-github",
        "colab_type": "text"
      },
      "source": [
        "<a href=\"https://colab.research.google.com/github/krakowiakpawel9/convnet-course/blob/master/basics/02_activation_function.ipynb\" target=\"_parent\"><img src=\"https://colab.research.google.com/assets/colab-badge.svg\" alt=\"Open In Colab\"/></a>"
      ]
    },
    {
      "cell_type": "markdown",
      "metadata": {
        "id": "9VIrbuFPxsat",
        "colab_type": "text"
      },
      "source": [
        "# Funkcje Aktywacji\n",
        "\n",
        "## ReLU Function - Rectified Linear Unit\n",
        "\n",
        "###     $f(x) = max(x, 0)$"
      ]
    },
    {
      "cell_type": "code",
      "metadata": {
        "id": "g5-Jsx0ww6BH",
        "colab_type": "code",
        "colab": {}
      },
      "source": [
        "import numpy as np\n",
        "import math\n",
        "import matplotlib.pyplot as plt\n",
        "import seaborn as sns\n",
        "sns.set()\n",
        "\n",
        "\n",
        "def max_relu(x):\n",
        "    return max(0.0, x)"
      ],
      "execution_count": 0,
      "outputs": []
    },
    {
      "cell_type": "markdown",
      "metadata": {
        "id": "Sbe-epCk1Zr6",
        "colab_type": "text"
      },
      "source": [
        "### Przetestowanie działania funkcji"
      ]
    },
    {
      "cell_type": "code",
      "metadata": {
        "id": "QigwpBCzyj0I",
        "colab_type": "code",
        "colab": {
          "base_uri": "https://localhost:8080/",
          "height": 102
        },
        "outputId": "230171c8-11c6-4c6f-d1ad-8373eb41580c"
      },
      "source": [
        "for i in [-10., -5., 0., 5., 10.]:\n",
        "    print(max_relu(i))"
      ],
      "execution_count": 50,
      "outputs": [
        {
          "output_type": "stream",
          "text": [
            "0.0\n",
            "0.0\n",
            "0.0\n",
            "5.0\n",
            "10.0\n"
          ],
          "name": "stdout"
        }
      ]
    },
    {
      "cell_type": "markdown",
      "metadata": {
        "id": "0GhskYUMzc1O",
        "colab_type": "text"
      },
      "source": [
        "### Wygenerowanie przykładowych danych + wykres"
      ]
    },
    {
      "cell_type": "code",
      "metadata": {
        "id": "yJV8iE7ly1_R",
        "colab_type": "code",
        "colab": {
          "base_uri": "https://localhost:8080/",
          "height": 301
        },
        "outputId": "534b7949-0062-4a79-9372-30732f9e4bbe"
      },
      "source": [
        "data = np.random.randn(500)\n",
        "max_relu_data = np.array([max_relu(x) for x in sorted(data)])\n",
        "\n",
        "\n",
        "\n",
        "plt.plot(sorted(data), max_relu_data)\n",
        "plt.title('ReLU Function')"
      ],
      "execution_count": 73,
      "outputs": [
        {
          "output_type": "execute_result",
          "data": {
            "text/plain": [
              "Text(0.5, 1.0, 'ReLU Function')"
            ]
          },
          "metadata": {
            "tags": []
          },
          "execution_count": 73
        },
        {
          "output_type": "display_data",
          "data": {
            "image/png": "[encoded data removed]",
            "text/plain": [
              "<Figure size 432x288 with 1 Axes>"
            ]
          },
          "metadata": {
            "tags": []
          }
        }
      ]
    },
    {
      "cell_type": "code",
      "metadata": {
        "id": "sZjuH6DrzoJ2",
        "colab_type": "code",
        "colab": {
          "base_uri": "https://localhost:8080/",
          "height": 34
        },
        "outputId": "90487288-a75c-4f4b-f355-01aef3bf3df7"
      },
      "source": [
        "data.shape"
      ],
      "execution_count": 65,
      "outputs": [
        {
          "output_type": "execute_result",
          "data": {
            "text/plain": [
              "(100,)"
            ]
          },
          "metadata": {
            "tags": []
          },
          "execution_count": 65
        }
      ]
    },
    {
      "cell_type": "markdown",
      "metadata": {
        "id": "vfh9ofCB1ruM",
        "colab_type": "text"
      },
      "source": [
        "## Sigmoid Function\n",
        "\n",
        "##    $f(x) = \\frac{1}{1 + e^{-x}}$"
      ]
    },
    {
      "cell_type": "code",
      "metadata": {
        "id": "VLM5thme0gr7",
        "colab_type": "code",
        "colab": {}
      },
      "source": [
        "def sigmoid(x):\n",
        "    return 1 / (1 + np.exp(-x))"
      ],
      "execution_count": 0,
      "outputs": []
    },
    {
      "cell_type": "markdown",
      "metadata": {
        "id": "ivn31h922UJ3",
        "colab_type": "text"
      },
      "source": [
        "### Przetestowanie działania"
      ]
    },
    {
      "cell_type": "code",
      "metadata": {
        "id": "cimu59j52An0",
        "colab_type": "code",
        "colab": {
          "base_uri": "https://localhost:8080/",
          "height": 136
        },
        "outputId": "f4fbfafe-7d95-4692-e60f-d64a360ee098"
      },
      "source": [
        "for i in [-5., -3., -1., 0., 1., 3., 5.]:\n",
        "    print(sigmoid(i))"
      ],
      "execution_count": 79,
      "outputs": [
        {
          "output_type": "stream",
          "text": [
            "0.0066928509242848554\n",
            "0.04742587317756678\n",
            "0.2689414213699951\n",
            "0.5\n",
            "0.7310585786300049\n",
            "0.9525741268224334\n",
            "0.9933071490757153\n"
          ],
          "name": "stdout"
        }
      ]
    },
    {
      "cell_type": "markdown",
      "metadata": {
        "id": "yjCSpX112We-",
        "colab_type": "text"
      },
      "source": [
        "### Wykres"
      ]
    },
    {
      "cell_type": "code",
      "metadata": {
        "id": "3mfVwiiQ2CxW",
        "colab_type": "code",
        "colab": {
          "base_uri": "https://localhost:8080/",
          "height": 301
        },
        "outputId": "9675c265-18f9-4f61-ab98-59affeec6803"
      },
      "source": [
        "data = 3 * np.random.randn(500)\n",
        "sigmoid_data = [sigmoid(x) for x in sorted(data)]\n",
        "\n",
        "plt.plot(sorted(data), sigmoid_data)\n",
        "plt.title('Sigmoid Function')"
      ],
      "execution_count": 82,
      "outputs": [
        {
          "output_type": "execute_result",
          "data": {
            "text/plain": [
              "Text(0.5, 1.0, 'Sigmoid Function')"
            ]
          },
          "metadata": {
            "tags": []
          },
          "execution_count": 82
        },
        {
          "output_type": "display_data",
          "data": {
            "image/png": "[encoded data removed]",
            "text/plain": [
              "<Figure size 432x288 with 1 Axes>"
            ]
          },
          "metadata": {
            "tags": []
          }
        }
      ]
    },
    {
      "cell_type": "markdown",
      "metadata": {
        "id": "YtWKaTds3wDQ",
        "colab_type": "text"
      },
      "source": [
        "## Softmax Function\n",
        "\n",
        "#   $S(y_i)=\\frac{e^{y_{i}}}{\\sum_{j=1}^{i}e^{y_j}}$"
      ]
    },
    {
      "cell_type": "code",
      "metadata": {
        "id": "XSNZjSUH2zdt",
        "colab_type": "code",
        "colab": {}
      },
      "source": [
        "def softmax(x):\n",
        "    return np.exp(x) / np.sum(np.exp(x), axis=0)"
      ],
      "execution_count": 0,
      "outputs": []
    },
    {
      "cell_type": "code",
      "metadata": {
        "id": "BqTm6Wov7Gvs",
        "colab_type": "code",
        "colab": {
          "base_uri": "https://localhost:8080/",
          "height": 68
        },
        "outputId": "053500a8-a8ff-4906-b0d9-d9a513e4e55c"
      },
      "source": [
        "data = np.random.randn(3, 5)\n",
        "data"
      ],
      "execution_count": 106,
      "outputs": [
        {
          "output_type": "execute_result",
          "data": {
            "text/plain": [
              "array([[ 0.98457159, -0.87536665, -0.06514191, -0.2773568 ,  0.67927347],\n",
              "       [-0.80984626,  1.09940796, -0.79927836, -0.11106554, -0.6831433 ],\n",
              "       [-0.47599106, -0.87299407, -0.52730043, -1.49534439, -0.28089059]])"
            ]
          },
          "metadata": {
            "tags": []
          },
          "execution_count": 106
        }
      ]
    },
    {
      "cell_type": "code",
      "metadata": {
        "id": "lbOWiPyO7H4s",
        "colab_type": "code",
        "colab": {
          "base_uri": "https://localhost:8080/",
          "height": 68
        },
        "outputId": "e363d910-66d0-4283-d9b0-0dbf0baa92a7"
      },
      "source": [
        "np.exp(data)"
      ],
      "execution_count": 107,
      "outputs": [
        {
          "output_type": "execute_result",
          "data": {
            "text/plain": [
              "array([[2.67666494, 0.41670921, 0.93693449, 0.75778407, 1.97244417],\n",
              "       [0.44492647, 3.00238797, 0.44965334, 0.8948801 , 0.50502704],\n",
              "       [0.62126904, 0.41769905, 0.5901961 , 0.22417139, 0.75511095]])"
            ]
          },
          "metadata": {
            "tags": []
          },
          "execution_count": 107
        }
      ]
    },
    {
      "cell_type": "code",
      "metadata": {
        "id": "HkPqUJEY7Nnt",
        "colab_type": "code",
        "colab": {
          "base_uri": "https://localhost:8080/",
          "height": 34
        },
        "outputId": "797a3ca9-c429-4786-e6bc-a7290039380a"
      },
      "source": [
        "np.sum(np.exp(data), axis=0)"
      ],
      "execution_count": 108,
      "outputs": [
        {
          "output_type": "execute_result",
          "data": {
            "text/plain": [
              "array([3.74286045, 3.83679623, 1.97678392, 1.87683556, 3.23258216])"
            ]
          },
          "metadata": {
            "tags": []
          },
          "execution_count": 108
        }
      ]
    },
    {
      "cell_type": "code",
      "metadata": {
        "id": "7fRn7uVC7fht",
        "colab_type": "code",
        "colab": {
          "base_uri": "https://localhost:8080/",
          "height": 68
        },
        "outputId": "39f9233f-37a8-444e-d239-6da2744a461b"
      },
      "source": [
        "results = softmax(data)\n",
        "results"
      ],
      "execution_count": 109,
      "outputs": [
        {
          "output_type": "execute_result",
          "data": {
            "text/plain": [
              "array([[0.71513886, 0.10860864, 0.4739691 , 0.40375624, 0.61017604],\n",
              "       [0.11887338, 0.78252474, 0.22746712, 0.47680261, 0.15623023],\n",
              "       [0.16598776, 0.10886662, 0.29856379, 0.11944115, 0.23359374]])"
            ]
          },
          "metadata": {
            "tags": []
          },
          "execution_count": 109
        }
      ]
    },
    {
      "cell_type": "code",
      "metadata": {
        "id": "T8PzGibQ8Qvm",
        "colab_type": "code",
        "colab": {
          "base_uri": "https://localhost:8080/",
          "height": 34
        },
        "outputId": "55c70e58-da0c-4b03-968f-75b0f2ea0532"
      },
      "source": [
        "np.sum(results, axis=0)"
      ],
      "execution_count": 110,
      "outputs": [
        {
          "output_type": "execute_result",
          "data": {
            "text/plain": [
              "array([1., 1., 1., 1., 1.])"
            ]
          },
          "metadata": {
            "tags": []
          },
          "execution_count": 110
        }
      ]
    },
    {
      "cell_type": "code",
      "metadata": {
        "id": "DzDPuptd8nnW",
        "colab_type": "code",
        "colab": {}
      },
      "source": [
        ""
      ],
      "execution_count": 0,
      "outputs": []
    }
  ]
}
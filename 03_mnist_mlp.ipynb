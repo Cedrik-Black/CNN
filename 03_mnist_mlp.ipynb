{
  "nbformat": 4,
  "nbformat_minor": 0,
  "metadata": {
    "colab": {
      "name": "Untitled30.ipynb",
      "version": "0.3.2",
      "provenance": [],
      "include_colab_link": true
    },
    "kernelspec": {
      "name": "python3",
      "display_name": "Python 3"
    },
    "accelerator": "GPU"
  },
  "cells": [
    {
      "cell_type": "markdown",
      "metadata": {
        "id": "view-in-github",
        "colab_type": "text"
      },
      "source": [
        "<a href=\"https://colab.research.google.com/github/krakowiakpawel9/convnet-course/blob/master/03_mnist_mlp.ipynb\" target=\"_parent\"><img src=\"https://colab.research.google.com/assets/colab-badge.svg\" alt=\"Open In Colab\"/></a>"
      ]
    },
    {
      "cell_type": "markdown",
      "metadata": {
        "id": "9MGZ2-79f-4U",
        "colab_type": "text"
      },
      "source": [
        "## Trenowanie prostej sieci neuronowej na zbiorze MNIST"
      ]
    },
    {
      "cell_type": "code",
      "metadata": {
        "id": "yZbN6TbnTwFJ",
        "colab_type": "code",
        "colab": {}
      },
      "source": [
        "import keras\n",
        "from keras.datasets import mnist\n",
        "from keras.models import Sequential\n",
        "from keras.layers import Dense, Dropout\n",
        "from keras.optimizers import RMSprop\n",
        "\n",
        "import warnings\n",
        "warnings.filterwarnings('ignore')"
      ],
      "execution_count": 0,
      "outputs": []
    },
    {
      "cell_type": "markdown",
      "metadata": {
        "id": "ba_I5yuSmbKg",
        "colab_type": "text"
      },
      "source": [
        "### Załadowanie danych"
      ]
    },
    {
      "cell_type": "code",
      "metadata": {
        "id": "cGkYDf-8mdBB",
        "colab_type": "code",
        "colab": {}
      },
      "source": [
        "(X_train, y_train), (X_test, y_test) = mnist.load_data()"
      ],
      "execution_count": 0,
      "outputs": []
    },
    {
      "cell_type": "markdown",
      "metadata": {
        "id": "b66X3vuAmmUh",
        "colab_type": "text"
      },
      "source": [
        "### Eksploracja danych\n"
      ]
    },
    {
      "cell_type": "code",
      "metadata": {
        "id": "YFofuu0smkRB",
        "colab_type": "code",
        "colab": {
          "base_uri": "https://localhost:8080/",
          "height": 136
        },
        "outputId": "7ed37600-9683-49c5-b5ba-93cc056d673e"
      },
      "source": [
        "print(X_train.shape)\n",
        "print(X_test.shape)\n",
        "print(y_train.shape)\n",
        "print(y_test.shape)\n",
        "\n",
        "print('Liczba dabych treningowych:', X_train.shape[0])\n",
        "print('Liczba danych testowych:', X_test.shape[0])\n",
        "print('Rozmiar pojedynczego obrazka:', X_train[0].shape)"
      ],
      "execution_count": 5,
      "outputs": [
        {
          "output_type": "stream",
          "text": [
            "(60000, 28, 28)\n",
            "(10000, 28, 28)\n",
            "(60000,)\n",
            "(10000,)\n",
            "Liczba dabych treningowych: 60000\n",
            "Liczba danych testowych: 10000\n",
            "Rozmiar pojedynczego obrazka: (28, 28)\n"
          ],
          "name": "stdout"
        }
      ]
    },
    {
      "cell_type": "markdown",
      "metadata": {
        "id": "NbSHNqD8npUN",
        "colab_type": "text"
      },
      "source": [
        "### Wyświetlenie obrazka"
      ]
    },
    {
      "cell_type": "code",
      "metadata": {
        "id": "RZfOsAo8m1h9",
        "colab_type": "code",
        "colab": {
          "base_uri": "https://localhost:8080/",
          "height": 282
        },
        "outputId": "f31f66ba-8cad-4118-95ca-5b9b46f74600"
      },
      "source": [
        "import matplotlib.pyplot as plt\n",
        "\n",
        "plt.imshow(X_train[0], cmap='Greys')\n",
        "plt.axis('off')"
      ],
      "execution_count": 39,
      "outputs": [
        {
          "output_type": "execute_result",
          "data": {
            "text/plain": [
              "(-0.5, 27.5, 27.5, -0.5)"
            ]
          },
          "metadata": {
            "tags": []
          },
          "execution_count": 39
        },
        {
          "output_type": "display_data",
          "data": {
            "image/png": "[encoded data removed]",
            "text/plain": [
              "<Figure size 432x288 with 1 Axes>"
            ]
          },
          "metadata": {
            "tags": []
          }
        }
      ]
    },
    {
      "cell_type": "markdown",
      "metadata": {
        "id": "JpvLUvuwntWT",
        "colab_type": "text"
      },
      "source": [
        "### Wyświetlenie kilku obrazków"
      ]
    },
    {
      "cell_type": "code",
      "metadata": {
        "id": "O5uERc6mn18k",
        "colab_type": "code",
        "colab": {
          "base_uri": "https://localhost:8080/",
          "height": 112
        },
        "outputId": "a80cae20-c4db-4af6-a21b-96f0bcbcae73"
      },
      "source": [
        "plt.figure(figsize=(13, 13))\n",
        "for i in range(1, 11):\n",
        "    plt.subplot(1, 10, i)\n",
        "    plt.axis('off')\n",
        "    plt.imshow(X_train[i], cmap='Greys')\n",
        "plt.show()"
      ],
      "execution_count": 43,
      "outputs": [
        {
          "output_type": "display_data",
          "data": {
            "image/png": "[encoded data removed]",
            "text/plain": [
              "<Figure size 936x936 with 10 Axes>"
            ]
          },
          "metadata": {
            "tags": []
          }
        }
      ]
    },
    {
      "cell_type": "markdown",
      "metadata": {
        "id": "d2dknFA9qPBE",
        "colab_type": "text"
      },
      "source": [
        "### Wyświetlenie danych"
      ]
    },
    {
      "cell_type": "code",
      "metadata": {
        "id": "1OwhGtvqqRB8",
        "colab_type": "code",
        "colab": {
          "base_uri": "https://localhost:8080/",
          "height": 270
        },
        "outputId": "a26bee4c-1f76-485c-f99d-e81a66ef0e55"
      },
      "source": [
        "print(X_train[0][10])\n",
        "\n",
        "# dolna połówka obrazka\n",
        "plt.imshow(X_train[0][14:], cmap='Greys')"
      ],
      "execution_count": 84,
      "outputs": [
        {
          "output_type": "stream",
          "text": [
            "[  0   0   0   0   0   0   0   0   0  14   1 154 253  90   0   0   0   0\n",
            "   0   0   0   0   0   0   0   0   0   0]\n"
          ],
          "name": "stdout"
        },
        {
          "output_type": "execute_result",
          "data": {
            "text/plain": [
              "<matplotlib.image.AxesImage at 0x7f7b9f629320>"
            ]
          },
          "metadata": {
            "tags": []
          },
          "execution_count": 84
        },
        {
          "output_type": "display_data",
          "data": {
            "image/png": "[encoded data removed]",
            "text/plain": [
              "<Figure size 432x288 with 1 Axes>"
            ]
          },
          "metadata": {
            "tags": []
          }
        }
      ]
    },
    {
      "cell_type": "code",
      "metadata": {
        "id": "PU2ve3gnrWJO",
        "colab_type": "code",
        "colab": {
          "base_uri": "https://localhost:8080/",
          "height": 236
        },
        "outputId": "bc95abd2-27cc-4919-cf64-480da4cdc202"
      },
      "source": [
        "# górna połówka obrazka\n",
        "plt.imshow(X_train[0][:14], cmap='Greys')"
      ],
      "execution_count": 83,
      "outputs": [
        {
          "output_type": "execute_result",
          "data": {
            "text/plain": [
              "<matplotlib.image.AxesImage at 0x7f7b9f5620b8>"
            ]
          },
          "metadata": {
            "tags": []
          },
          "execution_count": 83
        },
        {
          "output_type": "display_data",
          "data": {
            "image/png": "[encoded data removed]",
            "text/plain": [
              "<Figure size 432x288 with 1 Axes>"
            ]
          },
          "metadata": {
            "tags": []
          }
        }
      ]
    },
    {
      "cell_type": "markdown",
      "metadata": {
        "id": "fZEtF3cNrvMq",
        "colab_type": "text"
      },
      "source": [
        "### Przycinanie obrazka"
      ]
    },
    {
      "cell_type": "code",
      "metadata": {
        "id": "omD7lGzQrgav",
        "colab_type": "code",
        "colab": {
          "base_uri": "https://localhost:8080/",
          "height": 286
        },
        "outputId": "6cd9392f-8099-46af-eef1-79b8f322acdc"
      },
      "source": [
        "plt.imshow(X_train[0][5:20, 5:20], cmap='Greys')"
      ],
      "execution_count": 82,
      "outputs": [
        {
          "output_type": "execute_result",
          "data": {
            "text/plain": [
              "<matplotlib.image.AxesImage at 0x7f7b9f1acc18>"
            ]
          },
          "metadata": {
            "tags": []
          },
          "execution_count": 82
        },
        {
          "output_type": "display_data",
          "data": {
            "image/png": "[encoded data removed]",
            "text/plain": [
              "<Figure size 432x288 with 1 Axes>"
            ]
          },
          "metadata": {
            "tags": []
          }
        }
      ]
    },
    {
      "cell_type": "markdown",
      "metadata": {
        "id": "PlwXO9v4t5-f",
        "colab_type": "text"
      },
      "source": [
        "### Wyświetlenie etykiet"
      ]
    },
    {
      "cell_type": "code",
      "metadata": {
        "id": "1izcerI6t8TP",
        "colab_type": "code",
        "colab": {
          "base_uri": "https://localhost:8080/",
          "height": 51
        },
        "outputId": "b5775c19-25cc-4c3f-9560-f37f7fe7ae93"
      },
      "source": [
        "print('y_train:', y_train)\n",
        "print('y_train shape:', y_train.shape)"
      ],
      "execution_count": 6,
      "outputs": [
        {
          "output_type": "stream",
          "text": [
            "y_train: [5 0 4 ... 5 6 8]\n",
            "y_train shape: (60000,)\n"
          ],
          "name": "stdout"
        }
      ]
    },
    {
      "cell_type": "markdown",
      "metadata": {
        "id": "TrC0lVjMsxlw",
        "colab_type": "text"
      },
      "source": [
        "## Przygotowanie danych"
      ]
    },
    {
      "cell_type": "code",
      "metadata": {
        "id": "oIx1XUPOr48m",
        "colab_type": "code",
        "colab": {
          "base_uri": "https://localhost:8080/",
          "height": 51
        },
        "outputId": "d29648e1-e164-4f9f-e658-4d3faeb36922"
      },
      "source": [
        "X_train = X_train.reshape(60000, 28*28)\n",
        "X_test = X_test.reshape(10000, 28*28)\n",
        "\n",
        "X_train = X_train.astype('float32')\n",
        "X_test = X_test.astype('float32')\n",
        "\n",
        "X_train /= 255\n",
        "X_test /= 255\n",
        "\n",
        "print(X_train.shape)\n",
        "print(X_test.shape)"
      ],
      "execution_count": 7,
      "outputs": [
        {
          "output_type": "stream",
          "text": [
            "(60000, 784)\n",
            "(10000, 784)\n"
          ],
          "name": "stdout"
        }
      ]
    },
    {
      "cell_type": "markdown",
      "metadata": {
        "id": "Fq0QfgbAtlgW",
        "colab_type": "text"
      },
      "source": [
        "### Przygotowanie etykiet "
      ]
    },
    {
      "cell_type": "code",
      "metadata": {
        "id": "cb_2rthUtbRe",
        "colab_type": "code",
        "colab": {
          "base_uri": "https://localhost:8080/",
          "height": 85
        },
        "outputId": "70742c89-b5c7-4b22-8aa6-5762fb85b52a"
      },
      "source": [
        "y_train = keras.utils.to_categorical(y_train, num_classes=10)\n",
        "y_test = keras.utils.to_categorical(y_test, num_classes=10)\n",
        "\n",
        "print(y_train.shape)\n",
        "print(y_test.shape)"
      ],
      "execution_count": 8,
      "outputs": [
        {
          "output_type": "stream",
          "text": [
            "(60000, 10)\n",
            "(10000, 10)\n",
            "(10,)\n",
            "(10,)\n"
          ],
          "name": "stdout"
        }
      ]
    },
    {
      "cell_type": "code",
      "metadata": {
        "id": "TmuvwqEQvwuV",
        "colab_type": "code",
        "colab": {
          "base_uri": "https://localhost:8080/",
          "height": 34
        },
        "outputId": "f6d3a85d-79f9-45e2-cc4c-10477e4e8510"
      },
      "source": [
        "print(y_train[0])"
      ],
      "execution_count": 9,
      "outputs": [
        {
          "output_type": "stream",
          "text": [
            "[0. 0. 0. 0. 0. 1. 0. 0. 0. 0.]\n"
          ],
          "name": "stdout"
        }
      ]
    },
    {
      "cell_type": "markdown",
      "metadata": {
        "id": "4MMqlJI_wAL-",
        "colab_type": "text"
      },
      "source": [
        "### Budowa modelu"
      ]
    },
    {
      "cell_type": "code",
      "metadata": {
        "id": "g46OQYxwv0m9",
        "colab_type": "code",
        "colab": {
          "base_uri": "https://localhost:8080/",
          "height": 530
        },
        "outputId": "8b450b67-85d0-4a9c-ea5c-0d22487f5555"
      },
      "source": [
        "model = Sequential()\n",
        "model.add(Dense(units=512, activation='relu', input_shape=(28*28,)))\n",
        "model.add(Dropout(0.2))\n",
        "model.add(Dense(units=512, activation='relu'))\n",
        "model.add(Dropout(0.2))\n",
        "model.add(Dense(10, activation='softmax'))\n",
        "\n",
        "model.summary()"
      ],
      "execution_count": 10,
      "outputs": [
        {
          "output_type": "stream",
          "text": [
            "WARNING: Logging before flag parsing goes to stderr.\n",
            "W0711 06:39:17.977614 140000276723584 deprecation_wrapper.py:119] From /usr/local/lib/python3.6/dist-packages/keras/backend/tensorflow_backend.py:74: The name tf.get_default_graph is deprecated. Please use tf.compat.v1.get_default_graph instead.\n",
            "\n",
            "W0711 06:39:18.017816 140000276723584 deprecation_wrapper.py:119] From /usr/local/lib/python3.6/dist-packages/keras/backend/tensorflow_backend.py:517: The name tf.placeholder is deprecated. Please use tf.compat.v1.placeholder instead.\n",
            "\n",
            "W0711 06:39:18.024264 140000276723584 deprecation_wrapper.py:119] From /usr/local/lib/python3.6/dist-packages/keras/backend/tensorflow_backend.py:4138: The name tf.random_uniform is deprecated. Please use tf.random.uniform instead.\n",
            "\n",
            "W0711 06:39:18.040998 140000276723584 deprecation_wrapper.py:119] From /usr/local/lib/python3.6/dist-packages/keras/backend/tensorflow_backend.py:133: The name tf.placeholder_with_default is deprecated. Please use tf.compat.v1.placeholder_with_default instead.\n",
            "\n",
            "W0711 06:39:18.050017 140000276723584 deprecation.py:506] From /usr/local/lib/python3.6/dist-packages/keras/backend/tensorflow_backend.py:3445: calling dropout (from tensorflow.python.ops.nn_ops) with keep_prob is deprecated and will be removed in a future version.\n",
            "Instructions for updating:\n",
            "Please use `rate` instead of `keep_prob`. Rate should be set to `rate = 1 - keep_prob`.\n"
          ],
          "name": "stderr"
        },
        {
          "output_type": "stream",
          "text": [
            "_________________________________________________________________\n",
            "Layer (type)                 Output Shape              Param #   \n",
            "=================================================================\n",
            "dense_1 (Dense)              (None, 512)               401920    \n",
            "_________________________________________________________________\n",
            "dropout_1 (Dropout)          (None, 512)               0         \n",
            "_________________________________________________________________\n",
            "dense_2 (Dense)              (None, 512)               262656    \n",
            "_________________________________________________________________\n",
            "dropout_2 (Dropout)          (None, 512)               0         \n",
            "_________________________________________________________________\n",
            "dense_3 (Dense)              (None, 10)                5130      \n",
            "=================================================================\n",
            "Total params: 669,706\n",
            "Trainable params: 669,706\n",
            "Non-trainable params: 0\n",
            "_________________________________________________________________\n"
          ],
          "name": "stdout"
        }
      ]
    },
    {
      "cell_type": "markdown",
      "metadata": {
        "id": "WiDZJmbVwraU",
        "colab_type": "text"
      },
      "source": [
        "### Kompilacja modelu"
      ]
    },
    {
      "cell_type": "code",
      "metadata": {
        "id": "Gvt90hzcwfCY",
        "colab_type": "code",
        "colab": {
          "base_uri": "https://localhost:8080/",
          "height": 105
        },
        "outputId": "2ed42dc2-1e39-4896-ec2d-c706e21578ff"
      },
      "source": [
        "model.compile(optimizer=RMSprop(),\n",
        "             loss='categorical_crossentropy',\n",
        "             metrics=['accuracy'])"
      ],
      "execution_count": 11,
      "outputs": [
        {
          "output_type": "stream",
          "text": [
            "W0711 06:40:55.068041 140000276723584 deprecation_wrapper.py:119] From /usr/local/lib/python3.6/dist-packages/keras/optimizers.py:790: The name tf.train.Optimizer is deprecated. Please use tf.compat.v1.train.Optimizer instead.\n",
            "\n",
            "W0711 06:40:55.081679 140000276723584 deprecation_wrapper.py:119] From /usr/local/lib/python3.6/dist-packages/keras/backend/tensorflow_backend.py:3295: The name tf.log is deprecated. Please use tf.math.log instead.\n",
            "\n"
          ],
          "name": "stderr"
        }
      ]
    },
    {
      "cell_type": "markdown",
      "metadata": {
        "id": "LFO70o8_xIkD",
        "colab_type": "text"
      },
      "source": [
        "### Trenowanie modelu"
      ]
    },
    {
      "cell_type": "code",
      "metadata": {
        "id": "EvdOOXdFw2vL",
        "colab_type": "code",
        "colab": {
          "base_uri": "https://localhost:8080/",
          "height": 785
        },
        "outputId": "0b24e9f6-cfda-404e-cae3-e37c9c7ca06c"
      },
      "source": [
        "history = model.fit(X_train, y_train,\n",
        "                   batch_size=128,\n",
        "                   epochs=20,\n",
        "                   validation_data=(X_test, y_test))"
      ],
      "execution_count": 12,
      "outputs": [
        {
          "output_type": "stream",
          "text": [
            "W0711 06:42:14.251741 140000276723584 deprecation.py:323] From /usr/local/lib/python3.6/dist-packages/tensorflow/python/ops/math_grad.py:1250: add_dispatch_support.<locals>.wrapper (from tensorflow.python.ops.array_ops) is deprecated and will be removed in a future version.\n",
            "Instructions for updating:\n",
            "Use tf.where in 2.0, which has the same broadcast rule as np.where\n"
          ],
          "name": "stderr"
        },
        {
          "output_type": "stream",
          "text": [
            "Train on 60000 samples, validate on 10000 samples\n",
            "Epoch 1/20\n",
            "60000/60000 [==============================] - 5s 91us/step - loss: 0.2464 - acc: 0.9244 - val_loss: 0.1210 - val_acc: 0.9618\n",
            "Epoch 2/20\n",
            "60000/60000 [==============================] - 2s 30us/step - loss: 0.1036 - acc: 0.9687 - val_loss: 0.0926 - val_acc: 0.9704\n",
            "Epoch 3/20\n",
            "60000/60000 [==============================] - 2s 31us/step - loss: 0.0742 - acc: 0.9770 - val_loss: 0.0739 - val_acc: 0.9780\n",
            "Epoch 4/20\n",
            "60000/60000 [==============================] - 2s 30us/step - loss: 0.0610 - acc: 0.9817 - val_loss: 0.0824 - val_acc: 0.9754\n",
            "Epoch 5/20\n",
            "60000/60000 [==============================] - 2s 31us/step - loss: 0.0500 - acc: 0.9850 - val_loss: 0.0842 - val_acc: 0.9786\n",
            "Epoch 6/20\n",
            "60000/60000 [==============================] - 2s 30us/step - loss: 0.0452 - acc: 0.9868 - val_loss: 0.0782 - val_acc: 0.9788\n",
            "Epoch 7/20\n",
            "60000/60000 [==============================] - 2s 30us/step - loss: 0.0402 - acc: 0.9878 - val_loss: 0.0692 - val_acc: 0.9819\n",
            "Epoch 8/20\n",
            "60000/60000 [==============================] - 2s 30us/step - loss: 0.0341 - acc: 0.9901 - val_loss: 0.0805 - val_acc: 0.9813\n",
            "Epoch 9/20\n",
            "60000/60000 [==============================] - 2s 31us/step - loss: 0.0316 - acc: 0.9909 - val_loss: 0.0979 - val_acc: 0.9792\n",
            "Epoch 10/20\n",
            "60000/60000 [==============================] - 2s 32us/step - loss: 0.0306 - acc: 0.9914 - val_loss: 0.0901 - val_acc: 0.9828\n",
            "Epoch 11/20\n",
            "60000/60000 [==============================] - 2s 31us/step - loss: 0.0276 - acc: 0.9922 - val_loss: 0.0896 - val_acc: 0.9837\n",
            "Epoch 12/20\n",
            "60000/60000 [==============================] - 2s 32us/step - loss: 0.0271 - acc: 0.9926 - val_loss: 0.0901 - val_acc: 0.9822\n",
            "Epoch 13/20\n",
            "60000/60000 [==============================] - 2s 32us/step - loss: 0.0230 - acc: 0.9939 - val_loss: 0.1069 - val_acc: 0.9825\n",
            "Epoch 14/20\n",
            "60000/60000 [==============================] - 2s 31us/step - loss: 0.0224 - acc: 0.9938 - val_loss: 0.0925 - val_acc: 0.9836\n",
            "Epoch 15/20\n",
            "60000/60000 [==============================] - 2s 30us/step - loss: 0.0246 - acc: 0.9935 - val_loss: 0.0975 - val_acc: 0.9834\n",
            "Epoch 16/20\n",
            "60000/60000 [==============================] - 2s 30us/step - loss: 0.0216 - acc: 0.9948 - val_loss: 0.1004 - val_acc: 0.9835\n",
            "Epoch 17/20\n",
            "60000/60000 [==============================] - 2s 30us/step - loss: 0.0203 - acc: 0.9946 - val_loss: 0.0967 - val_acc: 0.9835\n",
            "Epoch 18/20\n",
            "60000/60000 [==============================] - 2s 30us/step - loss: 0.0193 - acc: 0.9943 - val_loss: 0.1046 - val_acc: 0.9841\n",
            "Epoch 19/20\n",
            "60000/60000 [==============================] - 2s 30us/step - loss: 0.0192 - acc: 0.9954 - val_loss: 0.1086 - val_acc: 0.9845\n",
            "Epoch 20/20\n",
            "60000/60000 [==============================] - 2s 30us/step - loss: 0.0187 - acc: 0.9949 - val_loss: 0.1023 - val_acc: 0.9834\n"
          ],
          "name": "stdout"
        }
      ]
    },
    {
      "cell_type": "markdown",
      "metadata": {
        "id": "l9bagiBAxgu1",
        "colab_type": "text"
      },
      "source": [
        "### Ocena modelu"
      ]
    },
    {
      "cell_type": "code",
      "metadata": {
        "id": "gBJfupYSxKCr",
        "colab_type": "code",
        "colab": {
          "base_uri": "https://localhost:8080/",
          "height": 68
        },
        "outputId": "34027245-abe5-4976-852a-bec3acb896dd"
      },
      "source": [
        "score = model.evaluate(X_test, y_test)\n",
        "print('Test loss:', score[0])\n",
        "print('Test accuracy:', score[1])"
      ],
      "execution_count": 16,
      "outputs": [
        {
          "output_type": "stream",
          "text": [
            "10000/10000 [==============================] - 0s 39us/step\n",
            "Test loss: 0.10232193803632797\n",
            "Test accuracy: 0.9834\n"
          ],
          "name": "stdout"
        }
      ]
    }
  ]
}